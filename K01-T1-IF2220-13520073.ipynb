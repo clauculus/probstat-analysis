{
 "cells": [
  {
   "cell_type": "markdown",
   "metadata": {},
   "source": [
    "# Tugas Besar IF2220 Probabilitas dan Statistika\n",
    "## Penarikan Kesimpulan dan Pengujian Hipotesis\n",
    "\n",
    "Dibuat oleh : \n",
    "* Lyora Felicya (13520073)\n",
    "* Claudia (13520076)"
   ]
  },
  {
   "cell_type": "code",
   "execution_count": 44,
   "metadata": {},
   "outputs": [
    {
     "data": {
      "text/html": [
       "<div>\n",
       "<style scoped>\n",
       "    .dataframe tbody tr th:only-of-type {\n",
       "        vertical-align: middle;\n",
       "    }\n",
       "\n",
       "    .dataframe tbody tr th {\n",
       "        vertical-align: top;\n",
       "    }\n",
       "\n",
       "    .dataframe thead th {\n",
       "        text-align: right;\n",
       "    }\n",
       "</style>\n",
       "<table border=\"1\" class=\"dataframe\">\n",
       "  <thead>\n",
       "    <tr style=\"text-align: right;\">\n",
       "      <th></th>\n",
       "      <th>id</th>\n",
       "      <th>pH</th>\n",
       "      <th>Hardness</th>\n",
       "      <th>Solids</th>\n",
       "      <th>Chloramines</th>\n",
       "      <th>Sulfate</th>\n",
       "      <th>Conductivity</th>\n",
       "      <th>OrganicCarbon</th>\n",
       "      <th>Trihalomethanes</th>\n",
       "      <th>Turbidity</th>\n",
       "      <th>Potability</th>\n",
       "    </tr>\n",
       "  </thead>\n",
       "  <tbody>\n",
       "    <tr>\n",
       "      <th>0</th>\n",
       "      <td>1</td>\n",
       "      <td>8.316766</td>\n",
       "      <td>214.373394</td>\n",
       "      <td>22018.417441</td>\n",
       "      <td>8.059332</td>\n",
       "      <td>356.886136</td>\n",
       "      <td>363.266516</td>\n",
       "      <td>18.436524</td>\n",
       "      <td>100.341674</td>\n",
       "      <td>4.628771</td>\n",
       "      <td>0</td>\n",
       "    </tr>\n",
       "    <tr>\n",
       "      <th>1</th>\n",
       "      <td>2</td>\n",
       "      <td>9.092223</td>\n",
       "      <td>181.101509</td>\n",
       "      <td>17978.986339</td>\n",
       "      <td>6.546600</td>\n",
       "      <td>310.135738</td>\n",
       "      <td>398.410813</td>\n",
       "      <td>11.558279</td>\n",
       "      <td>31.997993</td>\n",
       "      <td>4.075075</td>\n",
       "      <td>0</td>\n",
       "    </tr>\n",
       "    <tr>\n",
       "      <th>2</th>\n",
       "      <td>3</td>\n",
       "      <td>5.584087</td>\n",
       "      <td>188.313324</td>\n",
       "      <td>28748.687739</td>\n",
       "      <td>7.544869</td>\n",
       "      <td>326.678363</td>\n",
       "      <td>280.467916</td>\n",
       "      <td>8.399735</td>\n",
       "      <td>54.917862</td>\n",
       "      <td>2.559708</td>\n",
       "      <td>0</td>\n",
       "    </tr>\n",
       "    <tr>\n",
       "      <th>3</th>\n",
       "      <td>4</td>\n",
       "      <td>10.223862</td>\n",
       "      <td>248.071735</td>\n",
       "      <td>28749.716544</td>\n",
       "      <td>7.513408</td>\n",
       "      <td>393.663396</td>\n",
       "      <td>283.651634</td>\n",
       "      <td>13.789695</td>\n",
       "      <td>84.603556</td>\n",
       "      <td>2.672989</td>\n",
       "      <td>0</td>\n",
       "    </tr>\n",
       "    <tr>\n",
       "      <th>4</th>\n",
       "      <td>5</td>\n",
       "      <td>8.635849</td>\n",
       "      <td>203.361523</td>\n",
       "      <td>13672.091764</td>\n",
       "      <td>4.563009</td>\n",
       "      <td>303.309771</td>\n",
       "      <td>474.607645</td>\n",
       "      <td>12.363817</td>\n",
       "      <td>62.798309</td>\n",
       "      <td>4.401425</td>\n",
       "      <td>0</td>\n",
       "    </tr>\n",
       "    <tr>\n",
       "      <th>...</th>\n",
       "      <td>...</td>\n",
       "      <td>...</td>\n",
       "      <td>...</td>\n",
       "      <td>...</td>\n",
       "      <td>...</td>\n",
       "      <td>...</td>\n",
       "      <td>...</td>\n",
       "      <td>...</td>\n",
       "      <td>...</td>\n",
       "      <td>...</td>\n",
       "      <td>...</td>\n",
       "    </tr>\n",
       "    <tr>\n",
       "      <th>2005</th>\n",
       "      <td>2006</td>\n",
       "      <td>8.197353</td>\n",
       "      <td>203.105091</td>\n",
       "      <td>27701.794055</td>\n",
       "      <td>6.472914</td>\n",
       "      <td>328.886838</td>\n",
       "      <td>444.612724</td>\n",
       "      <td>14.250875</td>\n",
       "      <td>62.906205</td>\n",
       "      <td>3.361833</td>\n",
       "      <td>1</td>\n",
       "    </tr>\n",
       "    <tr>\n",
       "      <th>2006</th>\n",
       "      <td>2007</td>\n",
       "      <td>8.989900</td>\n",
       "      <td>215.047358</td>\n",
       "      <td>15921.412018</td>\n",
       "      <td>6.297312</td>\n",
       "      <td>312.931022</td>\n",
       "      <td>390.410231</td>\n",
       "      <td>9.899115</td>\n",
       "      <td>55.069304</td>\n",
       "      <td>4.613843</td>\n",
       "      <td>1</td>\n",
       "    </tr>\n",
       "    <tr>\n",
       "      <th>2007</th>\n",
       "      <td>2008</td>\n",
       "      <td>6.702547</td>\n",
       "      <td>207.321086</td>\n",
       "      <td>17246.920347</td>\n",
       "      <td>7.708117</td>\n",
       "      <td>304.510230</td>\n",
       "      <td>329.266002</td>\n",
       "      <td>16.217303</td>\n",
       "      <td>28.878601</td>\n",
       "      <td>3.442983</td>\n",
       "      <td>1</td>\n",
       "    </tr>\n",
       "    <tr>\n",
       "      <th>2008</th>\n",
       "      <td>2009</td>\n",
       "      <td>11.491011</td>\n",
       "      <td>94.812545</td>\n",
       "      <td>37188.826022</td>\n",
       "      <td>9.263166</td>\n",
       "      <td>258.930600</td>\n",
       "      <td>439.893618</td>\n",
       "      <td>16.172755</td>\n",
       "      <td>41.558501</td>\n",
       "      <td>4.369264</td>\n",
       "      <td>1</td>\n",
       "    </tr>\n",
       "    <tr>\n",
       "      <th>2009</th>\n",
       "      <td>2010</td>\n",
       "      <td>6.069616</td>\n",
       "      <td>186.659040</td>\n",
       "      <td>26138.780191</td>\n",
       "      <td>7.747547</td>\n",
       "      <td>345.700257</td>\n",
       "      <td>415.886955</td>\n",
       "      <td>12.067620</td>\n",
       "      <td>60.419921</td>\n",
       "      <td>3.669712</td>\n",
       "      <td>1</td>\n",
       "    </tr>\n",
       "  </tbody>\n",
       "</table>\n",
       "<p>2010 rows × 11 columns</p>\n",
       "</div>"
      ],
      "text/plain": [
       "        id         pH    Hardness        Solids  Chloramines     Sulfate  \\\n",
       "0        1   8.316766  214.373394  22018.417441     8.059332  356.886136   \n",
       "1        2   9.092223  181.101509  17978.986339     6.546600  310.135738   \n",
       "2        3   5.584087  188.313324  28748.687739     7.544869  326.678363   \n",
       "3        4  10.223862  248.071735  28749.716544     7.513408  393.663396   \n",
       "4        5   8.635849  203.361523  13672.091764     4.563009  303.309771   \n",
       "...    ...        ...         ...           ...          ...         ...   \n",
       "2005  2006   8.197353  203.105091  27701.794055     6.472914  328.886838   \n",
       "2006  2007   8.989900  215.047358  15921.412018     6.297312  312.931022   \n",
       "2007  2008   6.702547  207.321086  17246.920347     7.708117  304.510230   \n",
       "2008  2009  11.491011   94.812545  37188.826022     9.263166  258.930600   \n",
       "2009  2010   6.069616  186.659040  26138.780191     7.747547  345.700257   \n",
       "\n",
       "      Conductivity  OrganicCarbon  Trihalomethanes  Turbidity  Potability  \n",
       "0       363.266516      18.436524       100.341674   4.628771           0  \n",
       "1       398.410813      11.558279        31.997993   4.075075           0  \n",
       "2       280.467916       8.399735        54.917862   2.559708           0  \n",
       "3       283.651634      13.789695        84.603556   2.672989           0  \n",
       "4       474.607645      12.363817        62.798309   4.401425           0  \n",
       "...            ...            ...              ...        ...         ...  \n",
       "2005    444.612724      14.250875        62.906205   3.361833           1  \n",
       "2006    390.410231       9.899115        55.069304   4.613843           1  \n",
       "2007    329.266002      16.217303        28.878601   3.442983           1  \n",
       "2008    439.893618      16.172755        41.558501   4.369264           1  \n",
       "2009    415.886955      12.067620        60.419921   3.669712           1  \n",
       "\n",
       "[2010 rows x 11 columns]"
      ]
     },
     "execution_count": 44,
     "metadata": {},
     "output_type": "execute_result"
    }
   ],
   "source": [
    "import pandas as pd\n",
    "import seaborn as sns\n",
    "import matplotlib.pyplot as plt\n",
    "\n",
    "col_names = [\"id\", \"pH\", \"Hardness\", \"Solids\", \"Chloramines\", \"Sulfate\", \"Conductivity\", \"OrganicCarbon\", \"Trihalomethanes\", \"Turbidity\", \"Potability\"]\n",
    "df = pd.read_csv(\"water_potability.csv\", names = col_names)\n",
    "df"
   ]
  },
  {
   "cell_type": "code",
   "execution_count": 45,
   "metadata": {},
   "outputs": [
    {
     "data": {
      "text/plain": [
       "id                   int64\n",
       "pH                 float64\n",
       "Hardness           float64\n",
       "Solids             float64\n",
       "Chloramines        float64\n",
       "Sulfate            float64\n",
       "Conductivity       float64\n",
       "OrganicCarbon      float64\n",
       "Trihalomethanes    float64\n",
       "Turbidity          float64\n",
       "Potability           int64\n",
       "dtype: object"
      ]
     },
     "execution_count": 45,
     "metadata": {},
     "output_type": "execute_result"
    }
   ],
   "source": [
    "df.dtypes"
   ]
  },
  {
   "cell_type": "code",
   "execution_count": 46,
   "metadata": {},
   "outputs": [
    {
     "data": {
      "text/plain": [
       "id                 0\n",
       "pH                 0\n",
       "Hardness           0\n",
       "Solids             0\n",
       "Chloramines        0\n",
       "Sulfate            0\n",
       "Conductivity       0\n",
       "OrganicCarbon      0\n",
       "Trihalomethanes    0\n",
       "Turbidity          0\n",
       "Potability         0\n",
       "dtype: int64"
      ]
     },
     "execution_count": 46,
     "metadata": {},
     "output_type": "execute_result"
    }
   ],
   "source": [
    "df.isnull().sum()"
   ]
  },
  {
   "cell_type": "markdown",
   "metadata": {},
   "source": [
    "## Nomor 1\n",
    "Menulis deskripsi statistika (Descriptive Statistics) dari semua kolom pada data yang bersifat\n",
    "numerik, terdiri dari mean, median, modus, standar deviasi, variansi, range, nilai minimum,\n",
    "maksimum, kuartil, IQR, skewness dan kurtosis. Boleh juga ditambahkan deskripsi lain."
   ]
  },
  {
   "cell_type": "code",
   "execution_count": 47,
   "metadata": {},
   "outputs": [
    {
     "data": {
      "text/html": [
       "<div>\n",
       "<style scoped>\n",
       "    .dataframe tbody tr th:only-of-type {\n",
       "        vertical-align: middle;\n",
       "    }\n",
       "\n",
       "    .dataframe tbody tr th {\n",
       "        vertical-align: top;\n",
       "    }\n",
       "\n",
       "    .dataframe thead th {\n",
       "        text-align: right;\n",
       "    }\n",
       "</style>\n",
       "<table border=\"1\" class=\"dataframe\">\n",
       "  <thead>\n",
       "    <tr style=\"text-align: right;\">\n",
       "      <th></th>\n",
       "      <th>Kolom</th>\n",
       "      <th>Mean</th>\n",
       "      <th>Median</th>\n",
       "      <th>Modus</th>\n",
       "      <th>Std</th>\n",
       "      <th>Var</th>\n",
       "      <th>Range</th>\n",
       "      <th>Min</th>\n",
       "      <th>Max</th>\n",
       "      <th>Q1</th>\n",
       "      <th>Q2</th>\n",
       "      <th>Q3</th>\n",
       "      <th>IQR</th>\n",
       "      <th>Skew</th>\n",
       "      <th>Kurtosis</th>\n",
       "    </tr>\n",
       "  </thead>\n",
       "  <tbody>\n",
       "    <tr>\n",
       "      <th>1</th>\n",
       "      <td>id</td>\n",
       "      <td>1005.500000</td>\n",
       "      <td>1005.500000</td>\n",
       "      <td>1.000000</td>\n",
       "      <td>580.381340</td>\n",
       "      <td>3.368425e+05</td>\n",
       "      <td>2009.000000</td>\n",
       "      <td>1.000000</td>\n",
       "      <td>2010.000000</td>\n",
       "      <td>503.250000</td>\n",
       "      <td>1005.500000</td>\n",
       "      <td>1507.750000</td>\n",
       "      <td>1004.500000</td>\n",
       "      <td>0.000000</td>\n",
       "      <td>-1.200000</td>\n",
       "    </tr>\n",
       "    <tr>\n",
       "      <th>2</th>\n",
       "      <td>pH</td>\n",
       "      <td>7.087193</td>\n",
       "      <td>7.029490</td>\n",
       "      <td>0.227499</td>\n",
       "      <td>1.572803</td>\n",
       "      <td>2.473709e+00</td>\n",
       "      <td>13.772501</td>\n",
       "      <td>0.227499</td>\n",
       "      <td>14.000000</td>\n",
       "      <td>6.090785</td>\n",
       "      <td>7.029490</td>\n",
       "      <td>8.053006</td>\n",
       "      <td>1.962221</td>\n",
       "      <td>0.048535</td>\n",
       "      <td>0.626904</td>\n",
       "    </tr>\n",
       "    <tr>\n",
       "      <th>3</th>\n",
       "      <td>Hardness</td>\n",
       "      <td>195.969209</td>\n",
       "      <td>197.203525</td>\n",
       "      <td>73.492234</td>\n",
       "      <td>32.643166</td>\n",
       "      <td>1.065576e+03</td>\n",
       "      <td>243.845890</td>\n",
       "      <td>73.492234</td>\n",
       "      <td>317.338124</td>\n",
       "      <td>176.740657</td>\n",
       "      <td>197.203525</td>\n",
       "      <td>216.447589</td>\n",
       "      <td>39.706932</td>\n",
       "      <td>-0.085321</td>\n",
       "      <td>0.525480</td>\n",
       "    </tr>\n",
       "    <tr>\n",
       "      <th>4</th>\n",
       "      <td>Solids</td>\n",
       "      <td>21904.673439</td>\n",
       "      <td>20926.882155</td>\n",
       "      <td>320.942611</td>\n",
       "      <td>8625.397911</td>\n",
       "      <td>7.439749e+07</td>\n",
       "      <td>56167.729801</td>\n",
       "      <td>320.942611</td>\n",
       "      <td>56488.672413</td>\n",
       "      <td>15614.412962</td>\n",
       "      <td>20926.882155</td>\n",
       "      <td>27170.534649</td>\n",
       "      <td>11556.121687</td>\n",
       "      <td>0.591011</td>\n",
       "      <td>0.337320</td>\n",
       "    </tr>\n",
       "    <tr>\n",
       "      <th>5</th>\n",
       "      <td>Chloramines</td>\n",
       "      <td>7.134322</td>\n",
       "      <td>7.142014</td>\n",
       "      <td>1.390871</td>\n",
       "      <td>1.585214</td>\n",
       "      <td>2.512904e+00</td>\n",
       "      <td>11.736129</td>\n",
       "      <td>1.390871</td>\n",
       "      <td>13.127000</td>\n",
       "      <td>6.138326</td>\n",
       "      <td>7.142014</td>\n",
       "      <td>8.109933</td>\n",
       "      <td>1.971607</td>\n",
       "      <td>0.013003</td>\n",
       "      <td>0.549782</td>\n",
       "    </tr>\n",
       "    <tr>\n",
       "      <th>6</th>\n",
       "      <td>Sulfate</td>\n",
       "      <td>333.211376</td>\n",
       "      <td>332.214113</td>\n",
       "      <td>129.000000</td>\n",
       "      <td>41.211111</td>\n",
       "      <td>1.698356e+03</td>\n",
       "      <td>352.030642</td>\n",
       "      <td>129.000000</td>\n",
       "      <td>481.030642</td>\n",
       "      <td>307.626986</td>\n",
       "      <td>332.214113</td>\n",
       "      <td>359.268147</td>\n",
       "      <td>51.641161</td>\n",
       "      <td>-0.045728</td>\n",
       "      <td>0.786854</td>\n",
       "    </tr>\n",
       "    <tr>\n",
       "      <th>7</th>\n",
       "      <td>Conductivity</td>\n",
       "      <td>426.476708</td>\n",
       "      <td>423.438372</td>\n",
       "      <td>201.619737</td>\n",
       "      <td>80.701872</td>\n",
       "      <td>6.512792e+03</td>\n",
       "      <td>551.722883</td>\n",
       "      <td>201.619737</td>\n",
       "      <td>753.342620</td>\n",
       "      <td>366.619219</td>\n",
       "      <td>423.438372</td>\n",
       "      <td>482.209772</td>\n",
       "      <td>115.590553</td>\n",
       "      <td>0.268012</td>\n",
       "      <td>-0.237206</td>\n",
       "    </tr>\n",
       "    <tr>\n",
       "      <th>8</th>\n",
       "      <td>OrganicCarbon</td>\n",
       "      <td>14.357940</td>\n",
       "      <td>14.323286</td>\n",
       "      <td>2.200000</td>\n",
       "      <td>3.325770</td>\n",
       "      <td>1.106075e+01</td>\n",
       "      <td>24.806707</td>\n",
       "      <td>2.200000</td>\n",
       "      <td>27.006707</td>\n",
       "      <td>12.122530</td>\n",
       "      <td>14.323286</td>\n",
       "      <td>16.683562</td>\n",
       "      <td>4.561031</td>\n",
       "      <td>-0.020220</td>\n",
       "      <td>0.031018</td>\n",
       "    </tr>\n",
       "    <tr>\n",
       "      <th>9</th>\n",
       "      <td>Trihalomethanes</td>\n",
       "      <td>66.400717</td>\n",
       "      <td>66.482041</td>\n",
       "      <td>8.577013</td>\n",
       "      <td>16.081109</td>\n",
       "      <td>2.586021e+02</td>\n",
       "      <td>115.422987</td>\n",
       "      <td>8.577013</td>\n",
       "      <td>124.000000</td>\n",
       "      <td>55.949993</td>\n",
       "      <td>66.482041</td>\n",
       "      <td>77.294613</td>\n",
       "      <td>21.344620</td>\n",
       "      <td>-0.051383</td>\n",
       "      <td>0.223017</td>\n",
       "    </tr>\n",
       "    <tr>\n",
       "      <th>10</th>\n",
       "      <td>Turbidity</td>\n",
       "      <td>3.969497</td>\n",
       "      <td>3.967374</td>\n",
       "      <td>1.450000</td>\n",
       "      <td>0.780471</td>\n",
       "      <td>6.091350e-01</td>\n",
       "      <td>5.044749</td>\n",
       "      <td>1.450000</td>\n",
       "      <td>6.494749</td>\n",
       "      <td>3.442882</td>\n",
       "      <td>3.967374</td>\n",
       "      <td>4.514663</td>\n",
       "      <td>1.071781</td>\n",
       "      <td>-0.032266</td>\n",
       "      <td>-0.049831</td>\n",
       "    </tr>\n",
       "    <tr>\n",
       "      <th>11</th>\n",
       "      <td>Potability</td>\n",
       "      <td>0.402985</td>\n",
       "      <td>0.000000</td>\n",
       "      <td>0.000000</td>\n",
       "      <td>0.490620</td>\n",
       "      <td>2.407079e-01</td>\n",
       "      <td>1.000000</td>\n",
       "      <td>0.000000</td>\n",
       "      <td>1.000000</td>\n",
       "      <td>0.000000</td>\n",
       "      <td>0.000000</td>\n",
       "      <td>1.000000</td>\n",
       "      <td>1.000000</td>\n",
       "      <td>0.395873</td>\n",
       "      <td>-1.845122</td>\n",
       "    </tr>\n",
       "  </tbody>\n",
       "</table>\n",
       "</div>"
      ],
      "text/plain": [
       "              Kolom          Mean        Median       Modus          Std  \\\n",
       "1                id   1005.500000   1005.500000    1.000000   580.381340   \n",
       "2                pH      7.087193      7.029490    0.227499     1.572803   \n",
       "3          Hardness    195.969209    197.203525   73.492234    32.643166   \n",
       "4            Solids  21904.673439  20926.882155  320.942611  8625.397911   \n",
       "5       Chloramines      7.134322      7.142014    1.390871     1.585214   \n",
       "6           Sulfate    333.211376    332.214113  129.000000    41.211111   \n",
       "7      Conductivity    426.476708    423.438372  201.619737    80.701872   \n",
       "8     OrganicCarbon     14.357940     14.323286    2.200000     3.325770   \n",
       "9   Trihalomethanes     66.400717     66.482041    8.577013    16.081109   \n",
       "10        Turbidity      3.969497      3.967374    1.450000     0.780471   \n",
       "11       Potability      0.402985      0.000000    0.000000     0.490620   \n",
       "\n",
       "             Var         Range         Min           Max            Q1  \\\n",
       "1   3.368425e+05   2009.000000    1.000000   2010.000000    503.250000   \n",
       "2   2.473709e+00     13.772501    0.227499     14.000000      6.090785   \n",
       "3   1.065576e+03    243.845890   73.492234    317.338124    176.740657   \n",
       "4   7.439749e+07  56167.729801  320.942611  56488.672413  15614.412962   \n",
       "5   2.512904e+00     11.736129    1.390871     13.127000      6.138326   \n",
       "6   1.698356e+03    352.030642  129.000000    481.030642    307.626986   \n",
       "7   6.512792e+03    551.722883  201.619737    753.342620    366.619219   \n",
       "8   1.106075e+01     24.806707    2.200000     27.006707     12.122530   \n",
       "9   2.586021e+02    115.422987    8.577013    124.000000     55.949993   \n",
       "10  6.091350e-01      5.044749    1.450000      6.494749      3.442882   \n",
       "11  2.407079e-01      1.000000    0.000000      1.000000      0.000000   \n",
       "\n",
       "              Q2            Q3           IQR      Skew  Kurtosis  \n",
       "1    1005.500000   1507.750000   1004.500000  0.000000 -1.200000  \n",
       "2       7.029490      8.053006      1.962221  0.048535  0.626904  \n",
       "3     197.203525    216.447589     39.706932 -0.085321  0.525480  \n",
       "4   20926.882155  27170.534649  11556.121687  0.591011  0.337320  \n",
       "5       7.142014      8.109933      1.971607  0.013003  0.549782  \n",
       "6     332.214113    359.268147     51.641161 -0.045728  0.786854  \n",
       "7     423.438372    482.209772    115.590553  0.268012 -0.237206  \n",
       "8      14.323286     16.683562      4.561031 -0.020220  0.031018  \n",
       "9      66.482041     77.294613     21.344620 -0.051383  0.223017  \n",
       "10      3.967374      4.514663      1.071781 -0.032266 -0.049831  \n",
       "11      0.000000      1.000000      1.000000  0.395873 -1.845122  "
      ]
     },
     "execution_count": 47,
     "metadata": {},
     "output_type": "execute_result"
    }
   ],
   "source": [
    "describe_df = df.describe()\n",
    "\n",
    "# Membuat dictionary\n",
    "water = {}\n",
    "water[\"Kolom\"] = []\n",
    "water[\"Mean\"] = []\n",
    "water[\"Median\"] = []\n",
    "water[\"Modus\"] = []\n",
    "water[\"Std\"] = []\n",
    "water[\"Var\"] = []\n",
    "water[\"Range\"] = []\n",
    "water[\"Min\"] = []\n",
    "water[\"Max\"] = []\n",
    "water[\"Q1\"] = []\n",
    "water[\"Q2\"] = []\n",
    "water[\"Q3\"] = []\n",
    "water[\"IQR\"] = []\n",
    "water[\"Skew\"] = []\n",
    "water[\"Kurtosis\"] = []\n",
    "\n",
    "for column in describe_df:\n",
    "    water[\"Kolom\"].append(column)\n",
    "    water[\"Mean\"].append(describe_df[column][\"mean\"])\n",
    "    water[\"Median\"].append(df.median()[column])\n",
    "    water[\"Modus\"].append(df.mode(\"index\")[column][0])\n",
    "    water[\"Std\"].append(describe_df[column][\"std\"])    \n",
    "    water[\"Var\"].append(df.var()[column])\n",
    "    water[\"Range\"].append(describe_df[column][\"max\"] - describe_df[column][\"min\"])\n",
    "    water[\"Min\"].append(describe_df[column][\"min\"])   \n",
    "    water[\"Max\"].append(describe_df[column][\"max\"])    \n",
    "    water[\"Q1\"].append(describe_df[column][\"25%\"])   \n",
    "    water[\"Q2\"].append(describe_df[column][\"50%\"]) \n",
    "    water[\"Q3\"].append(describe_df[column][\"75%\"])   \n",
    "    water[\"IQR\"].append(describe_df[column][\"75%\"] - describe_df[column][\"25%\"])\n",
    "    water[\"Skew\"].append(df.skew()[column])\n",
    "    water[\"Kurtosis\"].append(df.kurtosis()[column])\n",
    "\n",
    "\n",
    "dataframe_new = pd.DataFrame(water, index = [i for i in range(1,12)])\n",
    "dataframe_new"
   ]
  },
  {
   "cell_type": "markdown",
   "metadata": {},
   "source": [
    "## Nomor 2\n",
    "Membuat Visualisasi plot distribusi, dalam bentuk histogram dan boxplot untuk setiap\n",
    "kolom numerik. Berikan uraian penjelasan kondisi setiap kolom berdasarkan kedua plot\n",
    "tersebut."
   ]
  },
  {
   "cell_type": "markdown",
   "metadata": {},
   "source": [
    "### id"
   ]
  },
  {
   "cell_type": "code",
   "execution_count": 48,
   "metadata": {},
   "outputs": [
    {
     "data": {
      "text/plain": [
       "<AxesSubplot:xlabel='id', ylabel='Count'>"
      ]
     },
     "execution_count": 48,
     "metadata": {},
     "output_type": "execute_result"
    },
    {
     "data": {
      "image/png": "[encoded data removed]",
      "text/plain": [
       "<Figure size 432x288 with 1 Axes>"
      ]
     },
     "metadata": {
      "needs_background": "light"
     },
     "output_type": "display_data"
    }
   ],
   "source": [
    "sns.histplot(data = df, x=\"id\", kde=True)"
   ]
  },
  {
   "cell_type": "code",
   "execution_count": 49,
   "metadata": {},
   "outputs": [
    {
     "data": {
      "text/plain": [
       "<AxesSubplot:xlabel='id'>"
      ]
     },
     "execution_count": 49,
     "metadata": {},
     "output_type": "execute_result"
    },
    {
     "data": {
      "image/png": "[encoded data removed]",
      "text/plain": [
       "<Figure size 432x288 with 1 Axes>"
      ]
     },
     "metadata": {
      "needs_background": "light"
     },
     "output_type": "display_data"
    }
   ],
   "source": [
    "sns.boxplot(x = df[\"id\"])"
   ]
  },
  {
   "cell_type": "markdown",
   "metadata": {},
   "source": [
    "### pH"
   ]
  },
  {
   "cell_type": "code",
   "execution_count": 50,
   "metadata": {},
   "outputs": [
    {
     "data": {
      "text/plain": [
       "<AxesSubplot:xlabel='pH', ylabel='Count'>"
      ]
     },
     "execution_count": 50,
     "metadata": {},
     "output_type": "execute_result"
    },
    {
     "data": {
      "image/png": "[encoded data removed]",
      "text/plain": [
       "<Figure size 432x288 with 1 Axes>"
      ]
     },
     "metadata": {
      "needs_background": "light"
     },
     "output_type": "display_data"
    }
   ],
   "source": [
    "sns.histplot(data = df, x=\"pH\", kde=True)"
   ]
  },
  {
   "cell_type": "code",
   "execution_count": 51,
   "metadata": {},
   "outputs": [
    {
     "data": {
      "text/plain": [
       "<AxesSubplot:xlabel='pH'>"
      ]
     },
     "execution_count": 51,
     "metadata": {},
     "output_type": "execute_result"
    },
    {
     "data": {
      "image/png": "[encoded data removed]",
      "text/plain": [
       "<Figure size 432x288 with 1 Axes>"
      ]
     },
     "metadata": {
      "needs_background": "light"
     },
     "output_type": "display_data"
    }
   ],
   "source": [
    "sns.boxplot(x = df[\"pH\"])"
   ]
  },
  {
   "cell_type": "markdown",
   "metadata": {},
   "source": [
    "### Hardness"
   ]
  },
  {
   "cell_type": "code",
   "execution_count": 52,
   "metadata": {},
   "outputs": [
    {
     "data": {
      "text/plain": [
       "<AxesSubplot:xlabel='Hardness', ylabel='Count'>"
      ]
     },
     "execution_count": 52,
     "metadata": {},
     "output_type": "execute_result"
    },
    {
     "data": {
      "image/png": "[encoded data removed]",
      "text/plain": [
       "<Figure size 432x288 with 1 Axes>"
      ]
     },
     "metadata": {
      "needs_background": "light"
     },
     "output_type": "display_data"
    }
   ],
   "source": [
    "sns.histplot(data = df, x = \"Hardness\", kde=True)"
   ]
  },
  {
   "cell_type": "code",
   "execution_count": 53,
   "metadata": {},
   "outputs": [
    {
     "data": {
      "text/plain": [
       "<AxesSubplot:xlabel='Hardness'>"
      ]
     },
     "execution_count": 53,
     "metadata": {},
     "output_type": "execute_result"
    },
    {
     "data": {
      "image/png": "[encoded data removed]",
      "text/plain": [
       "<Figure size 432x288 with 1 Axes>"
      ]
     },
     "metadata": {
      "needs_background": "light"
     },
     "output_type": "display_data"
    }
   ],
   "source": [
    "sns.boxplot(x = df[\"Hardness\"])"
   ]
  },
  {
   "cell_type": "markdown",
   "metadata": {},
   "source": [
    "### Solids"
   ]
  },
  {
   "cell_type": "code",
   "execution_count": 54,
   "metadata": {},
   "outputs": [
    {
     "data": {
      "text/plain": [
       "<AxesSubplot:xlabel='Solids', ylabel='Count'>"
      ]
     },
     "execution_count": 54,
     "metadata": {},
     "output_type": "execute_result"
    },
    {
     "data": {
      "image/png": "[encoded data removed]",
      "text/plain": [
       "<Figure size 432x288 with 1 Axes>"
      ]
     },
     "metadata": {
      "needs_background": "light"
     },
     "output_type": "display_data"
    }
   ],
   "source": [
    "sns.histplot(data = df, x = \"Solids\", kde=True)"
   ]
  },
  {
   "cell_type": "code",
   "execution_count": 55,
   "metadata": {},
   "outputs": [
    {
     "data": {
      "text/plain": [
       "<AxesSubplot:xlabel='Solids'>"
      ]
     },
     "execution_count": 55,
     "metadata": {},
     "output_type": "execute_result"
    },
    {
     "data": {
      "image/png": "[encoded data removed]",
      "text/plain": [
       "<Figure size 432x288 with 1 Axes>"
      ]
     },
     "metadata": {
      "needs_background": "light"
     },
     "output_type": "display_data"
    }
   ],
   "source": [
    "sns.boxplot(x = df[\"Solids\"])"
   ]
  },
  {
   "cell_type": "markdown",
   "metadata": {},
   "source": [
    "### Chloramines"
   ]
  },
  {
   "cell_type": "code",
   "execution_count": 56,
   "metadata": {},
   "outputs": [
    {
     "data": {
      "text/plain": [
       "<AxesSubplot:xlabel='Chloramines', ylabel='Count'>"
      ]
     },
     "execution_count": 56,
     "metadata": {},
     "output_type": "execute_result"
    },
    {
     "data": {
      "image/png": "[encoded data removed]",
      "text/plain": [
       "<Figure size 432x288 with 1 Axes>"
      ]
     },
     "metadata": {
      "needs_background": "light"
     },
     "output_type": "display_data"
    }
   ],
   "source": [
    "sns.histplot(data = df, x = \"Chloramines\", kde=True)"
   ]
  },
  {
   "cell_type": "code",
   "execution_count": 57,
   "metadata": {},
   "outputs": [
    {
     "data": {
      "text/plain": [
       "<AxesSubplot:xlabel='Chloramines'>"
      ]
     },
     "execution_count": 57,
     "metadata": {},
     "output_type": "execute_result"
    },
    {
     "data": {
      "image/png": "[encoded data removed]",
      "text/plain": [
       "<Figure size 432x288 with 1 Axes>"
      ]
     },
     "metadata": {
      "needs_background": "light"
     },
     "output_type": "display_data"
    }
   ],
   "source": [
    "sns.boxplot(x = df[\"Chloramines\"])"
   ]
  },
  {
   "cell_type": "markdown",
   "metadata": {},
   "source": [
    "### Sulfate"
   ]
  },
  {
   "cell_type": "code",
   "execution_count": 58,
   "metadata": {},
   "outputs": [
    {
     "data": {
      "text/plain": [
       "<AxesSubplot:xlabel='Sulfate', ylabel='Count'>"
      ]
     },
     "execution_count": 58,
     "metadata": {},
     "output_type": "execute_result"
    },
    {
     "data": {
      "image/png": "[encoded data removed]",
      "text/plain": [
       "<Figure size 432x288 with 1 Axes>"
      ]
     },
     "metadata": {
      "needs_background": "light"
     },
     "output_type": "display_data"
    }
   ],
   "source": [
    "sns.histplot(data = df, x = \"Sulfate\", kde=True)"
   ]
  },
  {
   "cell_type": "code",
   "execution_count": 59,
   "metadata": {},
   "outputs": [
    {
     "data": {
      "text/plain": [
       "<AxesSubplot:xlabel='Sulfate'>"
      ]
     },
     "execution_count": 59,
     "metadata": {},
     "output_type": "execute_result"
    },
    {
     "data": {
      "image/png": "[encoded data removed]",
      "text/plain": [
       "<Figure size 432x288 with 1 Axes>"
      ]
     },
     "metadata": {
      "needs_background": "light"
     },
     "output_type": "display_data"
    }
   ],
   "source": [
    "sns.boxplot(x = df[\"Sulfate\"])"
   ]
  },
  {
   "cell_type": "markdown",
   "metadata": {},
   "source": [
    "### Conductivity"
   ]
  },
  {
   "cell_type": "code",
   "execution_count": 60,
   "metadata": {},
   "outputs": [
    {
     "data": {
      "text/plain": [
       "<AxesSubplot:xlabel='Conductivity', ylabel='Count'>"
      ]
     },
     "execution_count": 60,
     "metadata": {},
     "output_type": "execute_result"
    },
    {
     "data": {
      "image/png": "[encoded data removed]",
      "text/plain": [
       "<Figure size 432x288 with 1 Axes>"
      ]
     },
     "metadata": {
      "needs_background": "light"
     },
     "output_type": "display_data"
    }
   ],
   "source": [
    "sns.histplot(data = df, x = \"Conductivity\", kde=True)"
   ]
  },
  {
   "cell_type": "code",
   "execution_count": 61,
   "metadata": {},
   "outputs": [
    {
     "data": {
      "text/plain": [
       "<AxesSubplot:xlabel='Conductivity'>"
      ]
     },
     "execution_count": 61,
     "metadata": {},
     "output_type": "execute_result"
    },
    {
     "data": {
      "image/png": "[encoded data removed]",
      "text/plain": [
       "<Figure size 432x288 with 1 Axes>"
      ]
     },
     "metadata": {
      "needs_background": "light"
     },
     "output_type": "display_data"
    }
   ],
   "source": [
    "sns.boxplot(x = df[\"Conductivity\"])"
   ]
  },
  {
   "cell_type": "markdown",
   "metadata": {},
   "source": [
    "### OrganicCarbon"
   ]
  },
  {
   "cell_type": "code",
   "execution_count": 62,
   "metadata": {},
   "outputs": [
    {
     "data": {
      "text/plain": [
       "<AxesSubplot:xlabel='OrganicCarbon', ylabel='Count'>"
      ]
     },
     "execution_count": 62,
     "metadata": {},
     "output_type": "execute_result"
    },
    {
     "data": {
      "image/png": "[encoded data removed]",
      "text/plain": [
       "<Figure size 432x288 with 1 Axes>"
      ]
     },
     "metadata": {
      "needs_background": "light"
     },
     "output_type": "display_data"
    }
   ],
   "source": [
    "sns.histplot(data = df, x = \"OrganicCarbon\", kde=True)"
   ]
  },
  {
   "cell_type": "code",
   "execution_count": 63,
   "metadata": {},
   "outputs": [
    {
     "data": {
      "text/plain": [
       "<AxesSubplot:xlabel='OrganicCarbon'>"
      ]
     },
     "execution_count": 63,
     "metadata": {},
     "output_type": "execute_result"
    },
    {
     "data": {
      "image/png": "[encoded data removed]",
      "text/plain": [
       "<Figure size 432x288 with 1 Axes>"
      ]
     },
     "metadata": {
      "needs_background": "light"
     },
     "output_type": "display_data"
    }
   ],
   "source": [
    "sns.boxplot(x = df[\"OrganicCarbon\"])"
   ]
  },
  {
   "cell_type": "markdown",
   "metadata": {},
   "source": [
    "### Trihalomethanes"
   ]
  },
  {
   "cell_type": "code",
   "execution_count": 64,
   "metadata": {},
   "outputs": [
    {
     "data": {
      "text/plain": [
       "<AxesSubplot:xlabel='Trihalomethanes', ylabel='Count'>"
      ]
     },
     "execution_count": 64,
     "metadata": {},
     "output_type": "execute_result"
    },
    {
     "data": {
      "image/png": "[encoded data removed]",
      "text/plain": [
       "<Figure size 432x288 with 1 Axes>"
      ]
     },
     "metadata": {
      "needs_background": "light"
     },
     "output_type": "display_data"
    }
   ],
   "source": [
    "sns.histplot(data = df, x = \"Trihalomethanes\", kde=True)"
   ]
  },
  {
   "cell_type": "code",
   "execution_count": 65,
   "metadata": {},
   "outputs": [
    {
     "data": {
      "text/plain": [
       "<AxesSubplot:xlabel='Trihalomethanes'>"
      ]
     },
     "execution_count": 65,
     "metadata": {},
     "output_type": "execute_result"
    },
    {
     "data": {
      "image/png": "[encoded data removed]",
      "text/plain": [
       "<Figure size 432x288 with 1 Axes>"
      ]
     },
     "metadata": {
      "needs_background": "light"
     },
     "output_type": "display_data"
    }
   ],
   "source": [
    "sns.boxplot(x = df[\"Trihalomethanes\"])"
   ]
  },
  {
   "cell_type": "markdown",
   "metadata": {},
   "source": [
    "### Turbidity"
   ]
  },
  {
   "cell_type": "code",
   "execution_count": 66,
   "metadata": {},
   "outputs": [
    {
     "data": {
      "text/plain": [
       "<AxesSubplot:xlabel='Turbidity', ylabel='Count'>"
      ]
     },
     "execution_count": 66,
     "metadata": {},
     "output_type": "execute_result"
    },
    {
     "data": {
      "image/png": "[encoded data removed]",
      "text/plain": [
       "<Figure size 432x288 with 1 Axes>"
      ]
     },
     "metadata": {
      "needs_background": "light"
     },
     "output_type": "display_data"
    }
   ],
   "source": [
    "sns.histplot(data = df, x = \"Turbidity\", kde=True)"
   ]
  },
  {
   "cell_type": "code",
   "execution_count": 67,
   "metadata": {},
   "outputs": [
    {
     "data": {
      "text/plain": [
       "<AxesSubplot:xlabel='Turbidity'>"
      ]
     },
     "execution_count": 67,
     "metadata": {},
     "output_type": "execute_result"
    },
    {
     "data": {
      "image/png": "[encoded data removed]",
      "text/plain": [
       "<Figure size 432x288 with 1 Axes>"
      ]
     },
     "metadata": {
      "needs_background": "light"
     },
     "output_type": "display_data"
    }
   ],
   "source": [
    "sns.boxplot(x = df[\"Turbidity\"])"
   ]
  },
  {
   "cell_type": "markdown",
   "metadata": {},
   "source": [
    "### Portability"
   ]
  },
  {
   "cell_type": "code",
   "execution_count": 68,
   "metadata": {},
   "outputs": [
    {
     "data": {
      "text/plain": [
       "<AxesSubplot:xlabel='Potability', ylabel='Count'>"
      ]
     },
     "execution_count": 68,
     "metadata": {},
     "output_type": "execute_result"
    },
    {
     "data": {
      "image/png": "[encoded data removed]",
      "text/plain": [
       "<Figure size 432x288 with 1 Axes>"
      ]
     },
     "metadata": {
      "needs_background": "light"
     },
     "output_type": "display_data"
    }
   ],
   "source": [
    "sns.histplot(data = df, x = \"Potability\", kde=True)"
   ]
  },
  {
   "cell_type": "code",
   "execution_count": 69,
   "metadata": {},
   "outputs": [
    {
     "data": {
      "text/plain": [
       "<AxesSubplot:xlabel='Potability'>"
      ]
     },
     "execution_count": 69,
     "metadata": {},
     "output_type": "execute_result"
    },
    {
     "data": {
      "image/png": "[encoded data removed]",
      "text/plain": [
       "<Figure size 432x288 with 1 Axes>"
      ]
     },
     "metadata": {
      "needs_background": "light"
     },
     "output_type": "display_data"
    }
   ],
   "source": [
    "sns.boxplot(x = df[\"Potability\"])"
   ]
  },
  {
   "cell_type": "markdown",
   "metadata": {},
   "source": [
    "## Nomor 3\n",
    "Menentukan setiap kolom numerik berdistribusi normal atau tidak. Gunakan normality test\n",
    "yang dikaitkan dengan histogram plot."
   ]
  },
  {
   "cell_type": "markdown",
   "metadata": {},
   "source": [
    "#### Penjelasan D’Agostino’s and Pearson’s Omnibus Test Of Normality\n",
    "Normality test dilakukan dengan menggunakan fungsi ```normaltest``` dari library scipy dan akan divisualisaasikan dengan ```seaborn.histplot()```. Apabila hasil tes menyimpulkan kolom berdistribusi normal, maka pada histogram plot akan tergambar bell-shaped curve (kurva simetris).\n",
    "\n",
    "Tes D'Agostino-Pearson, atau disebut juga Omnibus D'Agostino, dilakukan dengan menggabungkan hasil tes skewness dan kurtosis D'Agostino. Rumusnya diberikan sebagai berikut:$$K^2 = Z_s^2 + Z_k^2$$\n",
    "\n",
    "$Z_s$ merupakan hasil dari tes Skewness Agostino dan $Z_k$ merupakan hasil tes Kurtosis Agostino. $K^2$ diaproksimasi terdistribusi secara $\\chi^2$ (chi-squared) dengan 2 degrees of freedom (derajat kebebasan 2).\n",
    "\n",
    "Hipotesis null $H_0$ dalam test ini adalah data pada kolom tertentu terdistribusi secara normal.\n",
    "Apabila nilai $p > \\alpha$, maka $H_0$ akan diterima, sehingga kolom dapat disimpulkan memiliki distribusi normal.\n",
    "Sebaliknya apabila nilai $p \\leq \\alpha$, maka $H_0$ ditolak, sehingga kolom yang bersangkutan dapat disimpulkan tidak memiliki distribusi normal.\n",
    "\n",
    "Normality test dibawah ini akan menghasilkan dua buah output, yaitu nilai p-value yang didapat serta kesimpulan apakah hipotesis 0 diterima atau ditolak."
   ]
  },
  {
   "cell_type": "code",
   "execution_count": 70,
   "metadata": {},
   "outputs": [],
   "source": [
    "from scipy import stats\n",
    "\n",
    "def normalityTest(df):\n",
    "    k2, p = stats.normaltest(df)\n",
    "    print(\"P-value yang didapat sebesar\", p)\n",
    "    if (p < 0.05):\n",
    "        print(\"Hipotesis nol ditolak. Data tidak terdistribusi normal.\")\n",
    "    else:\n",
    "        print(\"Hipotesis nol diterima. Data terdistribusi normal.\")\n",
    "    sns.histplot(data = df, x = df, kde=True, stat=\"density\", linewidth=0)"
   ]
  },
  {
   "cell_type": "markdown",
   "metadata": {},
   "source": [
    "### pH"
   ]
  },
  {
   "cell_type": "code",
   "execution_count": 71,
   "metadata": {},
   "outputs": [
    {
     "name": "stdout",
     "output_type": "stream",
     "text": [
      "P-value yang didapat sebesar 2.6514813346797777e-05\n",
      "Hipotesis nol ditolak. Data tidak terdistribusi normal.\n"
     ]
    },
    {
     "data": {
      "image/png": "[encoded data removed]",
      "text/plain": [
       "<Figure size 432x288 with 1 Axes>"
      ]
     },
     "metadata": {
      "needs_background": "light"
     },
     "output_type": "display_data"
    }
   ],
   "source": [
    "normalityTest(df[\"pH\"])"
   ]
  },
  {
   "cell_type": "markdown",
   "metadata": {},
   "source": [
    "### Hardness"
   ]
  },
  {
   "cell_type": "code",
   "execution_count": 72,
   "metadata": {},
   "outputs": [
    {
     "name": "stdout",
     "output_type": "stream",
     "text": [
      "P-value yang didapat sebesar 0.00013442428699593753\n",
      "Hipotesis nol ditolak. Data tidak terdistribusi normal.\n"
     ]
    },
    {
     "data": {
      "image/png": "[encoded data removed]",
      "text/plain": [
       "<Figure size 432x288 with 1 Axes>"
      ]
     },
     "metadata": {
      "needs_background": "light"
     },
     "output_type": "display_data"
    }
   ],
   "source": [
    "normalityTest(df[\"Hardness\"])"
   ]
  },
  {
   "cell_type": "markdown",
   "metadata": {},
   "source": [
    "### Solids"
   ]
  },
  {
   "cell_type": "code",
   "execution_count": 73,
   "metadata": {},
   "outputs": [
    {
     "name": "stdout",
     "output_type": "stream",
     "text": [
      "P-value yang didapat sebesar 2.0796613688739523e-24\n",
      "Hipotesis nol ditolak. Data tidak terdistribusi normal.\n"
     ]
    },
    {
     "data": {
      "image/png": "[encoded data removed]",
      "text/plain": [
       "<Figure size 432x288 with 1 Axes>"
      ]
     },
     "metadata": {
      "needs_background": "light"
     },
     "output_type": "display_data"
    }
   ],
   "source": [
    "normalityTest(df[\"Solids\"])"
   ]
  },
  {
   "cell_type": "markdown",
   "metadata": {},
   "source": [
    "### Chloramines"
   ]
  },
  {
   "cell_type": "code",
   "execution_count": 74,
   "metadata": {},
   "outputs": [
    {
     "name": "stdout",
     "output_type": "stream",
     "text": [
      "P-value yang didapat sebesar 0.0002504831654753917\n",
      "Hipotesis nol ditolak. Data tidak terdistribusi normal.\n"
     ]
    },
    {
     "data": {
      "image/png": "[encoded data removed]",
      "text/plain": [
       "<Figure size 432x288 with 1 Axes>"
      ]
     },
     "metadata": {
      "needs_background": "light"
     },
     "output_type": "display_data"
    }
   ],
   "source": [
    "normalityTest(df[\"Chloramines\"])"
   ]
  },
  {
   "cell_type": "markdown",
   "metadata": {},
   "source": [
    "### Sulfate"
   ]
  },
  {
   "cell_type": "code",
   "execution_count": 75,
   "metadata": {},
   "outputs": [
    {
     "name": "stdout",
     "output_type": "stream",
     "text": [
      "P-value yang didapat sebesar 4.4255936678013136e-07\n",
      "Hipotesis nol ditolak. Data tidak terdistribusi normal.\n"
     ]
    },
    {
     "data": {
      "image/png": "[encoded data removed]",
      "text/plain": [
       "<Figure size 432x288 with 1 Axes>"
      ]
     },
     "metadata": {
      "needs_background": "light"
     },
     "output_type": "display_data"
    }
   ],
   "source": [
    "normalityTest(df[\"Sulfate\"])"
   ]
  },
  {
   "cell_type": "markdown",
   "metadata": {},
   "source": [
    "### Conductivity"
   ]
  },
  {
   "cell_type": "code",
   "execution_count": 76,
   "metadata": {},
   "outputs": [
    {
     "name": "stdout",
     "output_type": "stream",
     "text": [
      "P-value yang didapat sebesar 4.39018078287845e-07\n",
      "Hipotesis nol ditolak. Data tidak terdistribusi normal.\n"
     ]
    },
    {
     "data": {
      "image/png": "[encoded data removed]",
      "text/plain": [
       "<Figure size 432x288 with 1 Axes>"
      ]
     },
     "metadata": {
      "needs_background": "light"
     },
     "output_type": "display_data"
    }
   ],
   "source": [
    "normalityTest(df[\"Conductivity\"])"
   ]
  },
  {
   "cell_type": "markdown",
   "metadata": {},
   "source": [
    "### OrganicCarbon"
   ]
  },
  {
   "cell_type": "code",
   "execution_count": 77,
   "metadata": {},
   "outputs": [
    {
     "name": "stdout",
     "output_type": "stream",
     "text": [
      "P-value yang didapat sebesar 0.8825496581408284\n",
      "Hipotesis nol diterima. Data terdistribusi normal.\n"
     ]
    },
    {
     "data": {
      "image/png": "[encoded data removed]",
      "text/plain": [
       "<Figure size 432x288 with 1 Axes>"
      ]
     },
     "metadata": {
      "needs_background": "light"
     },
     "output_type": "display_data"
    }
   ],
   "source": [
    "normalityTest(df[\"OrganicCarbon\"])"
   ]
  },
  {
   "cell_type": "markdown",
   "metadata": {},
   "source": [
    "### Trihalomethanes"
   ]
  },
  {
   "cell_type": "code",
   "execution_count": 78,
   "metadata": {},
   "outputs": [
    {
     "name": "stdout",
     "output_type": "stream",
     "text": [
      "P-value yang didapat sebesar 0.1043598441875204\n",
      "Hipotesis nol diterima. Data terdistribusi normal.\n"
     ]
    },
    {
     "data": {
      "image/png": "[encoded data removed]",
      "text/plain": [
       "<Figure size 432x288 with 1 Axes>"
      ]
     },
     "metadata": {
      "needs_background": "light"
     },
     "output_type": "display_data"
    }
   ],
   "source": [
    "normalityTest(df[\"Trihalomethanes\"])"
   ]
  },
  {
   "cell_type": "markdown",
   "metadata": {},
   "source": [
    "### Turbidity"
   ]
  },
  {
   "cell_type": "code",
   "execution_count": 79,
   "metadata": {},
   "outputs": [
    {
     "name": "stdout",
     "output_type": "stream",
     "text": [
      "P-value yang didapat sebesar 0.7694717369961169\n",
      "Hipotesis nol diterima. Data terdistribusi normal.\n"
     ]
    },
    {
     "data": {
      "image/png": "[encoded data removed]",
      "text/plain": [
       "<Figure size 432x288 with 1 Axes>"
      ]
     },
     "metadata": {
      "needs_background": "light"
     },
     "output_type": "display_data"
    }
   ],
   "source": [
    "normalityTest(df[\"Turbidity\"])"
   ]
  },
  {
   "cell_type": "markdown",
   "metadata": {},
   "source": [
    "### Portability"
   ]
  },
  {
   "cell_type": "code",
   "execution_count": 80,
   "metadata": {},
   "outputs": [
    {
     "name": "stdout",
     "output_type": "stream",
     "text": [
      "P-value yang didapat sebesar 0.0\n",
      "Hipotesis nol ditolak. Data tidak terdistribusi normal.\n"
     ]
    },
    {
     "data": {
      "image/png": "[encoded data removed]",
      "text/plain": [
       "<Figure size 432x288 with 1 Axes>"
      ]
     },
     "metadata": {
      "needs_background": "light"
     },
     "output_type": "display_data"
    }
   ],
   "source": [
    "normalityTest(df[\"Potability\"])"
   ]
  },
  {
   "cell_type": "markdown",
   "metadata": {},
   "source": [
    "## Nomor 4\n",
    "Melakukan test hipotesis 1 sampel, dengan menuliskan 6 langkah testing dan menampilkan\n",
    "juga boxplotnya untuk kolom/bagian yang bersesuaian."
   ]
  },
  {
   "cell_type": "code",
   "execution_count": 81,
   "metadata": {},
   "outputs": [],
   "source": [
    "import scipy.stats as st"
   ]
  },
  {
   "cell_type": "markdown",
   "metadata": {},
   "source": [
    "a. Nilai Rata-rata pH di atas 7?"
   ]
  },
  {
   "cell_type": "code",
   "execution_count": 82,
   "metadata": {},
   "outputs": [
    {
     "data": {
      "image/png": "[encoded data removed]",
      "text/plain": [
       "<Figure size 432x288 with 1 Axes>"
      ]
     },
     "metadata": {
      "needs_background": "light"
     },
     "output_type": "display_data"
    }
   ],
   "source": [
    "ax = df.boxplot([\"pH\"])\n",
    "ax.set_title(\"Boxplot pH\")\n",
    "plt.show()"
   ]
  },
  {
   "cell_type": "code",
   "execution_count": 83,
   "metadata": {},
   "outputs": [
    {
     "name": "stdout",
     "output_type": "stream",
     "text": [
      "Langkah 1: Hipotesis H_0 yang kami ambil ialah mu_0 = 7\n",
      "Langkah 2: Hipotesis H_1 yang kami ambil ialah mu_0 > 7\n",
      "Langkah 3: Tingkat signifikan a yang kami ambil ialah 0.05\n",
      "Langkah 4: Uji statistik yang sesuai ialah dengan mengambil z = (mean - mu_0)/(std/(n**0.5)), karena mean dan std populasi diketahui. Serta karena H_1 ialah mu_0 > 4700, maka daerah kritis ialah z > z_a = z_0.95\n",
      "z_a = 1.6448536269514722\n",
      "Langkah 5:\n",
      "xbar = 7.0871927687138285 , std = 1.5728029470456655 , n = 2010\n",
      "z = 2.485445147379887\n",
      "p-value = 0.006469476288896492\n",
      "Langkah 6:\n",
      "Karena berada dalam daerah kritis, hipotesis H_0 ditolak sehingga rata-rata kolom pH bernilai lebih besar dari 7\n"
     ]
    }
   ],
   "source": [
    "H_0 = \"rata-rata kolom pH bernilai 7\"\n",
    "H_1 = \"rata-rata kolom pH bernilai lebih besar dari 7\"\n",
    "\n",
    "print(\"Langkah 1: Hipotesis H_0 yang kami ambil ialah mu_0 = 7\")\n",
    "print(\"Langkah 2: Hipotesis H_1 yang kami ambil ialah mu_0 > 7\")\n",
    "print(\"Langkah 3: Tingkat signifikan a yang kami ambil ialah 0.05\")\n",
    "a = 0.05\n",
    "print(\"Langkah 4: Uji statistik yang sesuai ialah dengan mengambil z = (mean - mu_0)/(std/(n**0.5)), karena mean dan std populasi diketahui. Serta karena H_1 ialah mu_0 > 4700, maka daerah kritis ialah z > z_a = z_0.95\")\n",
    "z_a = st.norm.ppf(.95)\n",
    "print(\"z_a =\",z_a)\n",
    "def isKritis(p, a):\n",
    "    return p < a\n",
    "print(\"Langkah 5:\")\n",
    "mu_0 = 7\n",
    "mean = df[\"pH\"].mean()\n",
    "std = df[\"pH\"].std()\n",
    "n = len(df[\"pH\"])\n",
    "print(\"xbar =\", mean, \", std =\", std, \", n =\", n)\n",
    "z = (mean - mu_0)/(std/(n**0.5))\n",
    "print(\"z =\",z)\n",
    "p = 1 - st.norm.cdf(z)\n",
    "print(\"p-value =\", p)\n",
    "print(\"Langkah 6:\")\n",
    "if isKritis(p, a):\n",
    "    print(\"Karena berada dalam daerah kritis, hipotesis H_0 ditolak sehingga \" + H_1)\n",
    "else:\n",
    "    print(\"Karena tidak berada dalam daerah kritis, hipotesis H_0 diterima sehingga \" + H_0)"
   ]
  },
  {
   "cell_type": "markdown",
   "metadata": {},
   "source": [
    "b. Nilai Rata-rata Hardness tidak sama dengan 205?"
   ]
  },
  {
   "cell_type": "code",
   "execution_count": 84,
   "metadata": {},
   "outputs": [
    {
     "data": {
      "image/png": "[encoded data removed]",
      "text/plain": [
       "<Figure size 432x288 with 1 Axes>"
      ]
     },
     "metadata": {
      "needs_background": "light"
     },
     "output_type": "display_data"
    }
   ],
   "source": [
    "ax = df.boxplot([\"Hardness\"])\n",
    "ax.set_title(\"Boxplot Hardness\")\n",
    "plt.show()"
   ]
  },
  {
   "cell_type": "code",
   "execution_count": 85,
   "metadata": {},
   "outputs": [
    {
     "name": "stdout",
     "output_type": "stream",
     "text": [
      "Langkah 1: Hipotesis H_0 yang kami ambil ialah mu_0 = 205\n",
      "Langkah 2: Hipotesis H_1 yang kami ambil ialah mu_0 != 205\n",
      "Langkah 3: Tingkat signifikan a yang kami ambil ialah 0.05\n",
      "a = 0.05\n",
      "Langkah 4: Uji statistik yang sesuai ialah dengan mengambil z = (mean - mu_0)/(std/(n**0.5)), \n",
      "karena mean dan std populasi diketahui. Serta karena H_1 ialah mu_0 != 116, maka daerah kritis ialah z > z_a/2 atau z < -z_a/2\n",
      "z_a/2 = 1.959963984540054\n",
      "Langkah 5:\n",
      "xbar = 195.96920903783524 , std = 32.643165859429864 , n = 2010\n",
      "z = -12.403137170010732\n",
      "p-value = 2.0\n",
      "Langkah 6:\n",
      "Karena tidak berada dalam daerah kritis, hipotesis H_0 diterima sehingga nilai rata-rata Hardness bernilai 205\n"
     ]
    }
   ],
   "source": [
    "H_0 = \"nilai rata-rata Hardness bernilai 205\"\n",
    "H_1 = \"nilai rata-rata Hardness tidak sama dengan 205\"\n",
    "\n",
    "print(\"Langkah 1: Hipotesis H_0 yang kami ambil ialah mu_0 = 205\")\n",
    "print(\"Langkah 2: Hipotesis H_1 yang kami ambil ialah mu_0 != 205\")\n",
    "print(\"Langkah 3: Tingkat signifikan a yang kami ambil ialah 0.05\")\n",
    "a = 0.05\n",
    "print(\"a =\", a)\n",
    "print(\"Langkah 4: Uji statistik yang sesuai ialah dengan mengambil z = (mean - mu_0)/(std/(n**0.5)), \")\n",
    "print(\"karena mean dan std populasi diketahui. Serta karena H_1 ialah mu_0 != 116, maka daerah kritis ialah z > z_a/2 atau z < -z_a/2\")\n",
    "z_adiv2 = st.norm.ppf(.975)\n",
    "print(\"z_a/2 =\",z_adiv2)\n",
    "print(\"Langkah 5:\")\n",
    "mu_0 = 205\n",
    "mean = df[\"Hardness\"].mean()\n",
    "std = df[\"Hardness\"].std()\n",
    "n = len(df[\"Hardness\"])\n",
    "print(\"xbar =\", mean, \", std =\", std, \", n =\", n)\n",
    "z = (mean - mu_0)/(std/(n**0.5))\n",
    "print(\"z =\",z)\n",
    "p = 2*(1-st.norm.cdf(z))\n",
    "print(\"p-value =\", p)\n",
    "print(\"Langkah 6:\")\n",
    "if (p < a):\n",
    "    print(\"Karena berada dalam daerah kritis, hipotesis H_0 ditolak sehingga \" + H_1)\n",
    "else:\n",
    "    print(\"Karena tidak berada dalam daerah kritis, hipotesis H_0 diterima sehingga \" + H_0)"
   ]
  },
  {
   "cell_type": "markdown",
   "metadata": {},
   "source": [
    "c. Nilai Rata-rata 100 baris pertama kolom Solids bukan 21900?"
   ]
  },
  {
   "cell_type": "code",
   "execution_count": 86,
   "metadata": {},
   "outputs": [
    {
     "data": {
      "image/png": "[encoded data removed]",
      "text/plain": [
       "<Figure size 432x288 with 1 Axes>"
      ]
     },
     "metadata": {
      "needs_background": "light"
     },
     "output_type": "display_data"
    }
   ],
   "source": [
    "ax = df.loc[:99].boxplot([\"Solids\"])\n",
    "ax.set_title(\"Boxplot 100 baris pertama kolom Solids\")\n",
    "plt.show()"
   ]
  },
  {
   "cell_type": "code",
   "execution_count": 87,
   "metadata": {},
   "outputs": [
    {
     "name": "stdout",
     "output_type": "stream",
     "text": [
      "Langkah 1: Hipotesis H_0 yang kami ambil ialah mu_0 = 21900\n",
      "Langkah 2: Hipotesis H_1 yang kami ambil ialah mu_0 != 21900\n",
      "Langkah 3: Tingkat signifikan a yang kami ambil ialah 0.05\n",
      "a = 0.05\n",
      "Langkah 4: Uji statistik yang sesuai ialah dengan mengambil t = (mean - mu_0)/(s/(n**0.5)), \n",
      "karena std tidak diketahui. Serta karena H_1 ialah p < 0.05, maka daerah kritis ialah t > t_a dan t < -t_a\n",
      "derajat kebebasan = 99\n",
      "t_a/2 = 1.6603911559963895\n",
      "Langkah 5:\n",
      "xbar = 22347.334446383426 , s = 7935.967706199006 , n = 100\n",
      "t = 0.5636797715721551\n",
      "p-value = 0.5742467134052605\n",
      "Langkah 6:\n",
      "Karena tidak berada dalam daerah kritis, hipotesis H_0 diterima sehingga rata-rata 100 baris pertama kolom Solids bernilai 21900\n"
     ]
    }
   ],
   "source": [
    "H_0 = \"rata-rata 100 baris pertama kolom Solids bernilai 21900\"\n",
    "H_1 = \"rata-rata 100 baris pertama kolom Solids bukan 21900\"\n",
    "\n",
    "print(\"Langkah 1: Hipotesis H_0 yang kami ambil ialah mu_0 = 21900\")\n",
    "print(\"Langkah 2: Hipotesis H_1 yang kami ambil ialah mu_0 != 21900\")\n",
    "print(\"Langkah 3: Tingkat signifikan a yang kami ambil ialah 0.05\")\n",
    "a = 0.05\n",
    "print(\"a =\", a)\n",
    "print(\"Langkah 4: Uji statistik yang sesuai ialah dengan mengambil t = (mean - mu_0)/(s/(n**0.5)), \")\n",
    "print(\"karena std tidak diketahui. Serta karena H_1 ialah p < 0.05, maka daerah kritis ialah t > t_a dan t < -t_a\")\n",
    "v = 99\n",
    "print(\"derajat kebebasan =\", v)\n",
    "t_adiv2 = st.t.ppf(.95, v)\n",
    "print(\"t_a/2 =\",t_adiv2)\n",
    "print(\"Langkah 5:\")\n",
    "mu_0 = 21900\n",
    "mean = df[\"Solids\"][:100].mean()\n",
    "s = df[\"Solids\"][:100].std()\n",
    "n = 100\n",
    "print(\"xbar =\", mean, \", s =\", s, \", n =\", n)\n",
    "t = (mean - mu_0)/(s/(n**0.5))\n",
    "print(\"t =\",t)\n",
    "p = 2*(1-st.t.cdf(t, v))\n",
    "print(\"p-value =\", p)\n",
    "print(\"Langkah 6:\")\n",
    "if (p < a):\n",
    "    print(\"Karena berada dalam daerah kritis, hipotesis H_0 ditolak sehingga \" + H_1)\n",
    "else:\n",
    "    print(\"Karena tidak berada dalam daerah kritis, hipotesis H_0 diterima sehingga \" + H_0)"
   ]
  },
  {
   "cell_type": "markdown",
   "metadata": {},
   "source": [
    "d. Proporsi nilai Conductivity yang lebih dari 450, adalah tidak sama dengan 10%?"
   ]
  },
  {
   "cell_type": "code",
   "execution_count": 88,
   "metadata": {},
   "outputs": [
    {
     "data": {
      "image/png": "[encoded data removed]",
      "text/plain": [
       "<Figure size 432x288 with 1 Axes>"
      ]
     },
     "metadata": {
      "needs_background": "light"
     },
     "output_type": "display_data"
    }
   ],
   "source": [
    "ax = df.boxplot([\"Conductivity\"])\n",
    "ax.set_title(\"Boxplot Conductivity\")\n",
    "plt.show()"
   ]
  },
  {
   "cell_type": "code",
   "execution_count": 89,
   "metadata": {},
   "outputs": [
    {
     "name": "stdout",
     "output_type": "stream",
     "text": [
      "Langkah 1: Hipotesis H_0 yang kami ambil ialah p = 0.1\n",
      "Langkah 2: Hipotesis H_1 yang kami ambil ialah p != 0.1\n",
      "Langkah 3: Tingkat signifikan a yang kami ambil ialah 0.05\n",
      "a = 0.05\n",
      "Langkah 4: Uji statistik yang sesuai ialah dengan mengambil z = (x - n*p0)/((n*p0*q0)**0.5), \n",
      "karena mean dan std populasi diketahui. Serta karena H_1 ialah p != 0.1, maka daerah kritis ialah z > z_a/2 atau z < -z_a/2\n",
      "z_a/2 = 1.959963984540054\n",
      "Langkah 5:\n",
      "x = 745 , p0 = 0.1 , q0 = 0.9\n",
      "z = 40.446376131589325\n",
      "p-value = 0.0\n",
      "Langkah 6:\n",
      "Karena berada dalam daerah kritis, hipotesis H_0 ditolak sehingga Proporsi nilai Conductivity yang lebih dari 450, tidak sama dengan 10%\n"
     ]
    }
   ],
   "source": [
    "H_0 = \"Proporsi nilai Conductivity yang lebih dari 450, adalah 10%\"\n",
    "H_1 = \"Proporsi nilai Conductivity yang lebih dari 450, tidak sama dengan 10%\"\n",
    "\n",
    "print(\"Langkah 1: Hipotesis H_0 yang kami ambil ialah p = 0.1\")\n",
    "print(\"Langkah 2: Hipotesis H_1 yang kami ambil ialah p != 0.1\")\n",
    "print(\"Langkah 3: Tingkat signifikan a yang kami ambil ialah 0.05\")\n",
    "a = 0.05\n",
    "print(\"a =\", a)\n",
    "print(\"Langkah 4: Uji statistik yang sesuai ialah dengan mengambil z = (x - n*p0)/((n*p0*q0)**0.5), \")\n",
    "print(\"karena mean dan std populasi diketahui. Serta karena H_1 ialah p != 0.1, maka daerah kritis ialah z > z_a/2 atau z < -z_a/2\")\n",
    "z_adiv2 = st.norm.ppf(.975)\n",
    "print(\"z_a/2 =\",z_adiv2)\n",
    "print(\"Langkah 5:\")\n",
    "x = 0\n",
    "n = len(df[\"Conductivity\"])\n",
    "for i in range (n):\n",
    "    if(df[\"Conductivity\"][i] > 450):\n",
    "        x += 1\n",
    "p0 = 0.10\n",
    "q0 = 1 - p0\n",
    "print(\"x =\", x, \", p0 =\", p0, \", q0 =\", q0)\n",
    "z = (x - n*p0)/((n*p0*q0)**0.5)\n",
    "print(\"z =\",z)\n",
    "p = 2*(1-st.norm.cdf(z))\n",
    "print(\"p-value =\", p)\n",
    "print(\"Langkah 6:\")\n",
    "if (p < a):\n",
    "    print(\"Karena berada dalam daerah kritis, hipotesis H_0 ditolak sehingga \" + H_1)\n",
    "else:\n",
    "    print(\"Karena tidak berada dalam daerah kritis, hipotesis H_0 diterima sehingga \" + H_0)"
   ]
  },
  {
   "cell_type": "markdown",
   "metadata": {},
   "source": [
    "e. Proporsi nilai Trihalomethanes yang kurang dari 40, adalah kurang dari 5%?"
   ]
  },
  {
   "cell_type": "code",
   "execution_count": 90,
   "metadata": {},
   "outputs": [
    {
     "data": {
      "image/png": "[encoded data removed]",
      "text/plain": [
       "<Figure size 432x288 with 1 Axes>"
      ]
     },
     "metadata": {
      "needs_background": "light"
     },
     "output_type": "display_data"
    }
   ],
   "source": [
    "ax = df.boxplot([\"Trihalomethanes\"])\n",
    "ax.set_title(\"Boxplot Trihalomethanes\")\n",
    "plt.show()"
   ]
  },
  {
   "cell_type": "code",
   "execution_count": 91,
   "metadata": {},
   "outputs": [
    {
     "name": "stdout",
     "output_type": "stream",
     "text": [
      "Langkah 1: Hipotesis H_0 yang kami ambil ialah p = 0.05\n",
      "Langkah 2: Hipotesis H_1 yang kami ambil ialah p < 0.05\n",
      "Langkah 3: Tingkat signifikan a yang kami ambil ialah 0.05\n",
      "a = 0.05\n",
      "Langkah 4: Uji statistik yang sesuai ialah dengan mengambil z = (x - n*p0)/((n*p0*q0)**0.5), \n",
      "karena mean dan std populasi diketahui. Serta karena H_1 ialah p < 0.05, maka daerah kritis ialah z < -z_a\n",
      "z_a = 1.6448536269514722\n",
      "Langkah 5:\n",
      "x = 106 , p0 = 0.05 , q0 = 0.95\n",
      "z = 0.5628826416670959\n",
      "p-value = 0.7132425995092373\n",
      "Langkah 6:\n",
      "Karena tidak berada dalam daerah kritis, hipotesis H_0 diterima sehingga proporsi nilai Trihalomethanes yang kurang dari 40, adalah 5%\n"
     ]
    }
   ],
   "source": [
    "H_0 = \"proporsi nilai Trihalomethanes yang kurang dari 40, adalah 5%\"\n",
    "H_1 = \"proporsi nilai Trihalomethanes yang kurang dari 40, adalah kurang dari 5%\"\n",
    "\n",
    "print(\"Langkah 1: Hipotesis H_0 yang kami ambil ialah p = 0.05\")\n",
    "print(\"Langkah 2: Hipotesis H_1 yang kami ambil ialah p < 0.05\")\n",
    "print(\"Langkah 3: Tingkat signifikan a yang kami ambil ialah 0.05\")\n",
    "a = 0.05\n",
    "print(\"a =\", a)\n",
    "print(\"Langkah 4: Uji statistik yang sesuai ialah dengan mengambil z = (x - n*p0)/((n*p0*q0)**0.5), \")\n",
    "print(\"karena mean dan std populasi diketahui. Serta karena H_1 ialah p < 0.05, maka daerah kritis ialah z < -z_a\")\n",
    "z_a = st.norm.ppf(.95)\n",
    "print(\"z_a =\",z_a)\n",
    "print(\"Langkah 5:\")\n",
    "x = 0\n",
    "n = len(df[\"Trihalomethanes\"])\n",
    "for i in range (n):\n",
    "    if(df[\"Trihalomethanes\"][i] < 40):\n",
    "        x += 1\n",
    "p0 = 0.05\n",
    "q0 = 1 - p0\n",
    "print(\"x =\", x, \", p0 =\", p0, \", q0 =\", q0)\n",
    "z = (x - n*p0)/((n*p0*q0)**0.5)\n",
    "print(\"z =\",z)\n",
    "p = st.norm.cdf(z)\n",
    "print(\"p-value =\", p)\n",
    "print(\"Langkah 6:\")\n",
    "if (p < a):\n",
    "    print(\"Karena berada dalam daerah kritis, hipotesis H_0 ditolak sehingga \" + H_1)\n",
    "else:\n",
    "    print(\"Karena tidak berada dalam daerah kritis, hipotesis H_0 diterima sehingga \" + H_0)"
   ]
  },
  {
   "cell_type": "markdown",
   "metadata": {},
   "source": [
    "## Nomor 5\n",
    "Melakukan test hipotesis 2 sampel, dengan menuliskan 6 langkah testing dan menampilkan\n",
    "juga boxplotnya untuk kolom/bagian yang bersesuaian."
   ]
  },
  {
   "cell_type": "markdown",
   "metadata": {},
   "source": [
    "a. Data kolom Sulfate dibagi 2 sama rata: bagian awal dan bagian akhir kolom. Benarkah rata-rata kedua bagian tersebut sama?"
   ]
  },
  {
   "cell_type": "markdown",
   "metadata": {},
   "source": [
    "Misal:\n",
    "\n",
    "$A_1$: Data Sulfate bagian awal kolom\n",
    "\n",
    "$A_2$: Data Sulfate bagian akhir kolom"
   ]
  },
  {
   "cell_type": "code",
   "execution_count": 92,
   "metadata": {},
   "outputs": [
    {
     "data": {
      "image/png": "[encoded data removed]",
      "text/plain": [
       "<Figure size 432x288 with 1 Axes>"
      ]
     },
     "metadata": {
      "needs_background": "light"
     },
     "output_type": "display_data"
    }
   ],
   "source": [
    "ax = df.loc[:1004].boxplot([\"Sulfate\"])\n",
    "ax.set_title(\"Boxplot Sulfate bagian awal\")\n",
    "plt.show()"
   ]
  },
  {
   "cell_type": "code",
   "execution_count": 93,
   "metadata": {},
   "outputs": [
    {
     "data": {
      "image/png": "[encoded data removed]",
      "text/plain": [
       "<Figure size 432x288 with 1 Axes>"
      ]
     },
     "metadata": {
      "needs_background": "light"
     },
     "output_type": "display_data"
    }
   ],
   "source": [
    "ax = df.loc[1005:].boxplot([\"Sulfate\"])\n",
    "ax.set_title(\"Boxplot Sulfate bagian akhir\")\n",
    "plt.show()"
   ]
  },
  {
   "cell_type": "markdown",
   "metadata": {},
   "source": [
    "1. Menentukan hipotesis nol $H_0$\n",
    "\n",
    "$H_0$: $\\mu_{A_1} = \\mu_{A_2}$\n",
    "\n",
    "Hipotesis nol yang ditetapkan adalah rata-rata data bagian awal kolom sama dengan rata-rata data bagian akhir kolom.\n",
    "\n",
    "2. Menentukan hipotesis alternatif $H_1$\n",
    "\n",
    "$H_1$: $\\mu_{A_1} \\neq \\mu_{A_2}$\n",
    "\n",
    "Hipotesis alternatif yang ditetapkan adalah rata-rata data bagian awal kolom tidak sama dengan rata-rata data bagian akhir kolom. Hal ini berarti rata-rata $A_1$ dapat lebih besar atau lebih kecil dari rata-rata $A_2$.\n",
    "\n",
    "3. Menentukan Tingkat signifikansi $\\alpha$\n",
    "\n",
    "$\\alpha = 0.05$\n",
    "\n",
    "4. Menentukan tes statistik, dilakukan dengan **t-distribution** atau disebut juga Student's t-test. Daerah kritisnya diberikan sebagai berikut:\n",
    "$$ t < -t_{\\alpha/2}(v) \\quad or \\quad t > t_{\\alpha/2}(v)$$ \n",
    "$v =$ derajat kebebasan $= n_{A_1} + n_{A_2} - 2$\n",
    "\n",
    "Hitung v\n",
    "\n",
    "$n_{A_1} = 1005$\n",
    "\n",
    "$n_{A_2} = 1005$\n",
    "\n",
    "$v = 1005 + 1005 - 2 = 2008$\n",
    "\n",
    "Cari batasan daerah kritis dengan bantuan modul ```scipy.stats```:"
   ]
  },
  {
   "cell_type": "code",
   "execution_count": 94,
   "metadata": {},
   "outputs": [
    {
     "name": "stdout",
     "output_type": "stream",
     "text": [
      "Batas bawah : -1.9611\n",
      "Batas atas : 1.9611\n"
     ]
    }
   ],
   "source": [
    "from scipy.stats import t\n",
    "\n",
    "# rumus: t.ppf(alpha/2, v)\n",
    "a = t.ppf(0.025, 2008)\n",
    "print(\"Batas bawah :\", round(a, 4))\n",
    "print(\"Batas atas :\", round(-a, 4))"
   ]
  },
  {
   "cell_type": "markdown",
   "metadata": {},
   "source": [
    "Didapatkan daerah kritisnya adalah $ t < -1.9611 \\quad or \\quad t > 1.9611$\n",
    "\n",
    "5. Menghitung nilai uji statistik dari data sample. Hitung p-value sesuai dengan uji statistik yang digunakan.\n",
    "Nilai $t$ harus berada di luar daerah kritis supaya $H_0$ diterima. Rumus $t$ diberikan sebagai berikut:\n",
    "$$\\Large t = \\Large\\frac{(\\bar{X_1} - \\bar{X_2})-(\\mu_1 - \\mu_2)}{\\sqrt{\\Large\\frac{s_1^2}{\\Large n_{1}} + \\Large\\frac{s_2^2}{\\Large n_{2}}}}$$\n",
    "$\\bar{X_1}$ : rata-rata sampel $A_1$\n",
    "\n",
    "$\\bar{X_2}$ : rata-rata sampel $A_2$\n",
    "\n",
    "$\\mu_1$ : rata-rata populasi $A_1$\n",
    "\n",
    "$\\mu_2$ : rata-rata populasi $A_2$\n",
    "\n",
    "$S_1^2$ : variansi sampel $A_1$\n",
    "\n",
    "$S_2^2$ : variansi sampel $A_2$\n",
    "\n",
    "Dari hipotesis, $\\mu_{A_1} = \\mu_{A_2}$ maka $\\mu_{A_1} - \\mu_{A_2} = 0$.\n",
    "\n",
    "Cari nilai $\\bar{X_1}$, $\\bar{X_2}$, $S_1^2$, dan $S_2^2$"
   ]
  },
  {
   "cell_type": "code",
   "execution_count": 95,
   "metadata": {},
   "outputs": [
    {
     "name": "stdout",
     "output_type": "stream",
     "text": [
      "Rata-rata A1 : 331.30532950549565\n",
      "Rata-rata A2 : 335.11742332488245\n",
      "Variansi A1 : 1708.3966020772502\n",
      "Variansi A2 : 1682.7330644425087\n"
     ]
    }
   ],
   "source": [
    "x1 = df.loc[:1004, \"Sulfate\"].mean()\n",
    "x2 = df.loc[1005:, \"Sulfate\"].mean()\n",
    "s1 = df.loc[:1004, \"Sulfate\"].var()\n",
    "s2 = df.loc[1005:, \"Sulfate\"].var()\n",
    "print(\"Rata-rata A1 :\", x1)\n",
    "print(\"Rata-rata A2 :\", x2)\n",
    "print(\"Variansi A1 :\", s1)\n",
    "print(\"Variansi A2 :\", s2)"
   ]
  },
  {
   "cell_type": "markdown",
   "metadata": {},
   "source": [
    "Lakukan komputasi untuk mencari nilai $t$ dan p-value"
   ]
  },
  {
   "cell_type": "code",
   "execution_count": 96,
   "metadata": {},
   "outputs": [
    {
     "name": "stdout",
     "output_type": "stream",
     "text": [
      "Nilai t : -0.0504\n",
      "p-value : 0.5201\n"
     ]
    }
   ],
   "source": [
    "from math import sqrt\n",
    "from scipy.stats import t\n",
    "\n",
    "t_value = (x1 - x2)  / sqrt((s1**2/1005) + (s2**2/1005))\n",
    "p_value = 1 - t.cdf(t_value, 2008)\n",
    "print(\"Nilai t :\", round(t_value, 4))\n",
    "print(\"p-value :\", round(p_value, 4))"
   ]
  },
  {
   "cell_type": "markdown",
   "metadata": {},
   "source": [
    "6. Pengambilan keputusan\n",
    "\n",
    "Nilai $t$ yang didapat berada di luar daerah kritis ($-0.0504 > -1.9611$) dan p-value lebih besar dari $\\alpha$ ($0.5201 > 0.05$). Oleh karena itu, keputusan yang diambil adalah **menerima $H_0$**. Kesimpulan yang didapat adalah ketika data kolom Sulfate dibagi dua sama rata, **rata-rata bagian awal kolom sama dengan rata-rata bagian akhir kolom**."
   ]
  },
  {
   "cell_type": "markdown",
   "metadata": {},
   "source": [
    "b. Data kolom OrganicCarbon dibagi 2 sama rata: bagian awal dan bagian akhir kolom. Benarkah rata-rata bagian awal lebih besar dari pada bagian akhir sebesar 0.15?"
   ]
  },
  {
   "cell_type": "markdown",
   "metadata": {},
   "source": [
    "Misal:\n",
    "\n",
    "$A_1$: Data OrganicCarbon bagian awal kolom\n",
    "\n",
    "$A_2$: Data OrganicCarbon bagian akhir kolom"
   ]
  },
  {
   "cell_type": "code",
   "execution_count": 97,
   "metadata": {},
   "outputs": [
    {
     "data": {
      "image/png": "[encoded data removed]",
      "text/plain": [
       "<Figure size 432x288 with 1 Axes>"
      ]
     },
     "metadata": {
      "needs_background": "light"
     },
     "output_type": "display_data"
    }
   ],
   "source": [
    "ax = df.loc[:1004].boxplot([\"OrganicCarbon\"])\n",
    "ax.set_title(\"Boxplot OrganicCarbon bagian awal\")\n",
    "plt.show()"
   ]
  },
  {
   "cell_type": "code",
   "execution_count": 98,
   "metadata": {},
   "outputs": [
    {
     "data": {
      "image/png": "[encoded data removed]",
      "text/plain": [
       "<Figure size 432x288 with 1 Axes>"
      ]
     },
     "metadata": {
      "needs_background": "light"
     },
     "output_type": "display_data"
    }
   ],
   "source": [
    "ax = df.loc[1005:].boxplot([\"OrganicCarbon\"])\n",
    "ax.set_title(\"Boxplot OrganicCarbon bagian akhir\")\n",
    "plt.show()"
   ]
  },
  {
   "cell_type": "markdown",
   "metadata": {},
   "source": [
    "1. Menentukan hipotesis nol $H_0$\n",
    "\n",
    "$H_0$: $\\mu_{A_1} = (\\mu_{A_2} + 0.2)$\n",
    "\n",
    "Hipotesis nol yang ditetapkan adalah rata-rata data bagian awal kolom sama dengan rata-rata data bagian akhir kolom ditambah $0.2$.\n",
    "\n",
    "2. Menentukan hipotesis alternatif $H_1$\n",
    "\n",
    "$H_1$: $\\mu_{A_1} \\neq (\\mu_{A_2} + 0.2)$\n",
    "\n",
    "Hipotesis alternatif yang ditetapkan adalah rata-rata data bagian awal kolom tidak sama dengan rata-rata data bagian akhir kolom ditambah $0.2$. Hal ini berarti rata-rata $A_1$ dapat lebih besar atau lebih kecil dari rata-rata $A_2$ ditambah $0.2$.\n",
    "\n",
    "3. Menentukan tingkat signifikansi $\\alpha$\n",
    "\n",
    "$\\alpha = 0.05$\n",
    "\n",
    "4. Menentukan tes statistik, dilakukan dengan **t-distribution** atau disebut juga Student's t-test. Daerah kritisnya diberikan sebagai berikut:\n",
    "$$ t < -t_{\\alpha/2}(v) \\quad or \\quad t > t_{\\alpha/2}(v)$$ \n",
    "$v =$ derajat kebebasan $= n_{A_1} + n_{A_2} - 2$\n",
    "\n",
    "Hitung v\n",
    "\n",
    "$n_{A_1} = 1005$\n",
    "\n",
    "$n_{A_2} = 1005$\n",
    "\n",
    "$v = 1005 + 1005 - 2 = 2008$\n",
    "\n",
    "Cari batasan daerah kritis dengan bantuan modul ```scipy.stats```:"
   ]
  },
  {
   "cell_type": "code",
   "execution_count": 99,
   "metadata": {},
   "outputs": [
    {
     "name": "stdout",
     "output_type": "stream",
     "text": [
      "Batas bawah : -1.9611\n",
      "Batas atas : 1.9611\n"
     ]
    }
   ],
   "source": [
    "from scipy.stats import t\n",
    "\n",
    "# rumus: t.ppf(alpha/2, v)\n",
    "a = t.ppf(0.025, 2008)\n",
    "print(\"Batas bawah :\", round(a, 4))\n",
    "print(\"Batas atas :\", round(-a, 4))"
   ]
  },
  {
   "cell_type": "markdown",
   "metadata": {},
   "source": [
    "Didapatkan daerah kritisnya adalah $ t < -1.9611 \\quad or \\quad t > 1.9611$\n",
    "\n",
    "5. Menghitung nilai uji statistik dari data sample. Hitung p-value sesuai dengan uji statistik yang digunakan.\n",
    "Nilai $t$ harus berada di luar daerah kritis supaya $H_0$ diterima. Rumus $t$ diberikan sebagai berikut:\n",
    "$$\\Large t = \\Large\\frac{(\\bar{X_1} - \\bar{X_2})-(\\mu_1 - \\mu_2)}{\\sqrt{\\Large\\frac{s_1^2}{\\Large n_{1}} + \\Large\\frac{s_2^2}{\\Large n_{2}}}}$$\n",
    "$\\bar{X_1}$ : rata-rata sampel $A_1$\n",
    "\n",
    "$\\bar{X_2}$ : rata-rata sampel $A_2$\n",
    "\n",
    "$\\mu_1$ : rata-rata populasi $A_1$\n",
    "\n",
    "$\\mu_2$ : rata-rata populasi $A_2$\n",
    "\n",
    "$S_1^2$ : variansi sampel $A_1$\n",
    "\n",
    "$S_2^2$ : variansi sampel $A_2$\n",
    "\n",
    "Dari hipotesis, $\\mu_{A_1} = \\mu_{A_2}$ maka $\\mu_{A_1} - \\mu_{A_2} = 0$.\n",
    "\n",
    "Cari nilai $\\bar{X_1}$, $\\bar{X_2}$, $S_1^2$, dan $S_2^2$"
   ]
  },
  {
   "cell_type": "code",
   "execution_count": 100,
   "metadata": {},
   "outputs": [
    {
     "name": "stdout",
     "output_type": "stream",
     "text": [
      "Rata-rata A1 : 14.253972723723393\n",
      "Rata-rata A2 : 14.461907080372756\n",
      "Variansi A1 : 11.230287224380323\n",
      "Variansi A2 : 10.880581782847479\n"
     ]
    }
   ],
   "source": [
    "x1 = df.loc[:1004, \"OrganicCarbon\"].mean()\n",
    "x2 = df.loc[1005:, \"OrganicCarbon\"].mean()\n",
    "s1 = df.loc[:1004, \"OrganicCarbon\"].var()\n",
    "s2 = df.loc[1005:, \"OrganicCarbon\"].var()\n",
    "print(\"Rata-rata A1 :\", x1)\n",
    "print(\"Rata-rata A2 :\", x2)\n",
    "print(\"Variansi A1 :\", s1)\n",
    "print(\"Variansi A2 :\", s2)"
   ]
  },
  {
   "cell_type": "markdown",
   "metadata": {},
   "source": [
    "Lakukan komputasi untuk mencari nilai $t$ dan p-value"
   ]
  },
  {
   "cell_type": "code",
   "execution_count": 101,
   "metadata": {},
   "outputs": [
    {
     "name": "stdout",
     "output_type": "stream",
     "text": [
      "Nilai t : -0.4216\n",
      "p-value : 0.6633\n"
     ]
    }
   ],
   "source": [
    "from math import sqrt\n",
    "from scipy.stats import t\n",
    "\n",
    "t_value = (x1 - x2)  / sqrt((s1**2/1005) + (s2**2/1005))\n",
    "p_value = 1 - t.cdf(t_value, 2008)\n",
    "print(\"Nilai t :\", round(t_value, 4))\n",
    "print(\"p-value :\", round(p_value, 4))"
   ]
  },
  {
   "cell_type": "markdown",
   "metadata": {},
   "source": [
    "6. Pengambilan keputusan\n",
    "\n",
    "Nilai $t$ yang didapat berada di luar daerah kritis ($-0.4216 > -1.9611$) dan p-value lebih besar dari $\\alpha$ ($0.6633 > 0.05$). Oleh karena itu, keputusan yang diambil adalah **menerima $H_0$**. Kesimpulan yang didapat adalah ketika data kolom Sulfate dibagi dua sama rata, **rata-rata bagian awal kolom lebih besar sejumlah 0.2 dibanding rata-rata bagian akhir kolom**."
   ]
  },
  {
   "cell_type": "markdown",
   "metadata": {},
   "source": [
    "c. Rata-rata 100 baris pertama kolom Chloramines sama dengan 100 baris terakhirnya?"
   ]
  },
  {
   "cell_type": "markdown",
   "metadata": {},
   "source": [
    "d.  Proporsi nilai bagian awal Turbidity yang lebih dari 4, adalah lebih besar daripada, proporsi nilai yang sama di bagian akhir Turbidity ?"
   ]
  },
  {
   "cell_type": "markdown",
   "metadata": {},
   "source": [
    "e. Bagian awal kolom Sulfate memiliki variansi yang sama dengan bagian akhirnya?"
   ]
  },
  {
   "cell_type": "markdown",
   "metadata": {},
   "source": [
    "\n",
    "Test korelasi: tentukan apakah setiap kolom non-target berkorelasi dengan kolom target,\n",
    "dengan menggambarkan juga scatter plot nya. Gunakan correlation test."
   ]
  },
  {
   "cell_type": "markdown",
   "metadata": {},
   "source": [
    "## Nomor 6\n",
    "Menentukan apakah kolom non-target berkorelasi dengan kolom target dan gambarkan scatter plot dengan correlation test"
   ]
  },
  {
   "cell_type": "markdown",
   "metadata": {},
   "source": [
    "pH"
   ]
  },
  {
   "cell_type": "code",
   "execution_count": 102,
   "metadata": {},
   "outputs": [
    {
     "data": {
      "image/png": "[encoded data removed]",
      "text/plain": [
       "<Figure size 432x288 with 1 Axes>"
      ]
     },
     "metadata": {
      "needs_background": "light"
     },
     "output_type": "display_data"
    },
    {
     "name": "stdout",
     "output_type": "stream",
     "text": [
      "Correlation: 0.015475094408433464\n"
     ]
    }
   ],
   "source": [
    "import matplotlib.pyplot as plt\n",
    "\n",
    "plt.scatter(x = df[\"pH\"],y = df[\"Potability\"])\n",
    "plt.xlabel(\"pH\")\n",
    "plt.ylabel(\"Potability\")\n",
    "plt.show()\n",
    "\n",
    "print(\"Correlation: \" + str((df[\"pH\"].corr(df[\"Potability\"]))))"
   ]
  },
  {
   "cell_type": "markdown",
   "metadata": {},
   "source": [
    "Hardness"
   ]
  },
  {
   "cell_type": "code",
   "execution_count": 103,
   "metadata": {},
   "outputs": [
    {
     "data": {
      "image/png": "[encoded data removed]",
      "text/plain": [
       "<Figure size 432x288 with 1 Axes>"
      ]
     },
     "metadata": {
      "needs_background": "light"
     },
     "output_type": "display_data"
    },
    {
     "name": "stdout",
     "output_type": "stream",
     "text": [
      "Correlation: -0.0014631528959479258\n"
     ]
    }
   ],
   "source": [
    "plt.scatter(x = df[\"Hardness\"],y = df[\"Potability\"])\n",
    "plt.xlabel(\"Hardness\")\n",
    "plt.ylabel(\"Potability\")\n",
    "plt.show()\n",
    "\n",
    "print(\"Correlation: \" + str((df[\"Hardness\"].corr(df[\"Potability\"]))))"
   ]
  },
  {
   "cell_type": "markdown",
   "metadata": {},
   "source": [
    "Solids"
   ]
  },
  {
   "cell_type": "code",
   "execution_count": 104,
   "metadata": {},
   "outputs": [
    {
     "data": {
      "image/png": "[encoded data removed]",
      "text/plain": [
       "<Figure size 432x288 with 1 Axes>"
      ]
     },
     "metadata": {
      "needs_background": "light"
     },
     "output_type": "display_data"
    },
    {
     "name": "stdout",
     "output_type": "stream",
     "text": [
      "Correlation: 0.03897657818173469\n"
     ]
    }
   ],
   "source": [
    "plt.scatter(x = df[\"Solids\"],y = df[\"Potability\"])\n",
    "plt.xlabel(\"Solids\")\n",
    "plt.ylabel(\"Potability\")\n",
    "plt.show()\n",
    "\n",
    "print(\"Correlation: \" + str((df[\"Solids\"].corr(df[\"Potability\"]))))"
   ]
  },
  {
   "cell_type": "markdown",
   "metadata": {},
   "source": [
    "Chloramines"
   ]
  },
  {
   "cell_type": "code",
   "execution_count": 105,
   "metadata": {},
   "outputs": [
    {
     "data": {
      "image/png": "[encoded data removed]",
      "text/plain": [
       "<Figure size 432x288 with 1 Axes>"
      ]
     },
     "metadata": {
      "needs_background": "light"
     },
     "output_type": "display_data"
    },
    {
     "name": "stdout",
     "output_type": "stream",
     "text": [
      "Correlation: 0.020778921840524097\n"
     ]
    }
   ],
   "source": [
    "plt.scatter(x = df[\"Chloramines\"],y = df[\"Potability\"])\n",
    "plt.xlabel(\"Chloramines\")\n",
    "plt.ylabel(\"Potability\")\n",
    "plt.show()\n",
    "\n",
    "print(\"Correlation: \" + str((df[\"Chloramines\"].corr(df[\"Potability\"]))))"
   ]
  },
  {
   "cell_type": "markdown",
   "metadata": {},
   "source": [
    "Sulfate"
   ]
  },
  {
   "cell_type": "code",
   "execution_count": 106,
   "metadata": {},
   "outputs": [
    {
     "data": {
      "image/png": "[encoded data removed]",
      "text/plain": [
       "<Figure size 432x288 with 1 Axes>"
      ]
     },
     "metadata": {
      "needs_background": "light"
     },
     "output_type": "display_data"
    },
    {
     "name": "stdout",
     "output_type": "stream",
     "text": [
      "Correlation: -0.015703164419273774\n"
     ]
    }
   ],
   "source": [
    "plt.scatter(x = df[\"Sulfate\"],y = df[\"Potability\"])\n",
    "plt.xlabel(\"Sulfate\")\n",
    "plt.ylabel(\"Potability\")\n",
    "plt.show()\n",
    "\n",
    "print(\"Correlation: \" + str((df[\"Sulfate\"].corr(df[\"Potability\"]))))"
   ]
  },
  {
   "cell_type": "markdown",
   "metadata": {},
   "source": [
    "Conductivity"
   ]
  },
  {
   "cell_type": "code",
   "execution_count": 107,
   "metadata": {},
   "outputs": [
    {
     "data": {
      "image/png": "[encoded data removed]",
      "text/plain": [
       "<Figure size 432x288 with 1 Axes>"
      ]
     },
     "metadata": {
      "needs_background": "light"
     },
     "output_type": "display_data"
    },
    {
     "name": "stdout",
     "output_type": "stream",
     "text": [
      "Correlation: -0.01625712011137708\n"
     ]
    }
   ],
   "source": [
    "plt.scatter(x = df[\"Conductivity\"],y = df[\"Potability\"])\n",
    "plt.xlabel(\"Conductivity\")\n",
    "plt.ylabel(\"Potability\")\n",
    "plt.show()\n",
    "\n",
    "print(\"Correlation: \" + str((df[\"Conductivity\"].corr(df[\"Potability\"]))))"
   ]
  },
  {
   "cell_type": "markdown",
   "metadata": {},
   "source": [
    "OrganicCarbon"
   ]
  },
  {
   "cell_type": "code",
   "execution_count": 108,
   "metadata": {},
   "outputs": [
    {
     "data": {
      "image/png": "[encoded data removed]",
      "text/plain": [
       "<Figure size 432x288 with 1 Axes>"
      ]
     },
     "metadata": {
      "needs_background": "light"
     },
     "output_type": "display_data"
    },
    {
     "name": "stdout",
     "output_type": "stream",
     "text": [
      "Correlation: -0.015488461910747283\n"
     ]
    }
   ],
   "source": [
    "plt.scatter(x = df[\"OrganicCarbon\"],y = df[\"Potability\"])\n",
    "plt.xlabel(\"OrganicCarbon\")\n",
    "plt.ylabel(\"Potability\")\n",
    "plt.show()\n",
    "\n",
    "print(\"Correlation: \" + str((df[\"OrganicCarbon\"].corr(df[\"Potability\"]))))"
   ]
  },
  {
   "cell_type": "markdown",
   "metadata": {},
   "source": [
    "Trihalomethanes"
   ]
  },
  {
   "cell_type": "code",
   "execution_count": 109,
   "metadata": {},
   "outputs": [
    {
     "data": {
      "image/png": "[encoded data removed]",
      "text/plain": [
       "<Figure size 432x288 with 1 Axes>"
      ]
     },
     "metadata": {
      "needs_background": "light"
     },
     "output_type": "display_data"
    },
    {
     "name": "stdout",
     "output_type": "stream",
     "text": [
      "Correlation: 0.009236711064713023\n"
     ]
    }
   ],
   "source": [
    "plt.scatter(x = df[\"Trihalomethanes\"],y = df[\"Potability\"])\n",
    "plt.xlabel(\"Trihalomethanes\")\n",
    "plt.ylabel(\"Potability\")\n",
    "plt.show()\n",
    "\n",
    "print(\"Correlation: \" + str((df[\"Trihalomethanes\"].corr(df[\"Potability\"]))))"
   ]
  },
  {
   "cell_type": "markdown",
   "metadata": {},
   "source": [
    "Turbidity"
   ]
  },
  {
   "cell_type": "code",
   "execution_count": 110,
   "metadata": {},
   "outputs": [
    {
     "data": {
      "image/png": "[encoded data removed]",
      "text/plain": [
       "<Figure size 432x288 with 1 Axes>"
      ]
     },
     "metadata": {
      "needs_background": "light"
     },
     "output_type": "display_data"
    },
    {
     "name": "stdout",
     "output_type": "stream",
     "text": [
      "Correlation: 0.022331042640622675\n"
     ]
    }
   ],
   "source": [
    "plt.scatter(x = df[\"Turbidity\"],y = df[\"Potability\"])\n",
    "plt.xlabel(\"Turbidity\")\n",
    "plt.ylabel(\"Potability\")\n",
    "plt.show()\n",
    "\n",
    "print(\"Correlation: \" + str((df[\"Turbidity\"].corr(df[\"Potability\"]))))"
   ]
  }
 ],
 "metadata": {
  "interpreter": {
   "hash": "f0cdc4910d9deca7a9de00566e555a3d4346f2a62c848a4400c41f68aafe997e"
  },
  "kernelspec": {
   "display_name": "Python 3.8.5 32-bit",
   "language": "python",
   "name": "python3"
  },
  "language_info": {
   "codemirror_mode": {
    "name": "ipython",
    "version": 3
   },
   "file_extension": ".py",
   "mimetype": "text/x-python",
   "name": "python",
   "nbconvert_exporter": "python",
   "pygments_lexer": "ipython3",
   "version": "3.8.5"
  },
  "orig_nbformat": 4
 },
 "nbformat": 4,
 "nbformat_minor": 2
}
